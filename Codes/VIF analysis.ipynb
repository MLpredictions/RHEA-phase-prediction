{
  "nbformat": 4,
  "nbformat_minor": 0,
  "metadata": {
    "colab": {
      "provenance": []
    },
    "kernelspec": {
      "name": "python3",
      "display_name": "Python 3"
    },
    "language_info": {
      "name": "python"
    }
  },
  "cells": [
    {
      "cell_type": "code",
      "execution_count": null,
      "metadata": {
        "id": "kDBIqpsStfHa"
      },
      "outputs": [],
      "source": [
        "import pandas as pd\n",
        "import numpy as np\n",
        "import matplotlib.pyplot as plt\n",
        "from statsmodels.stats.outliers_influence import variance_inflation_factor\n",
        "from sklearn.preprocessing import StandardScaler\n",
        "\n",
        "# Load dataset (replace with your dataset path)\n",
        "file_path = r'/content/dataset.csv'\n",
        "data = pd.read_csv(file_path)\n",
        "\n",
        "# Define element composition columns (updated list of elements)\n",
        "expected_columns = [\n",
        "    'Al', 'Co', 'Cr', 'Fe', 'Ni', 'Cu', 'Mn', 'Ti',\n",
        "    'V', 'Nb', 'Mo', 'Zr', 'Hf', 'Ta', 'W', 'Si'\n",
        "]\n",
        "\n",
        "# Filter available columns\n",
        "available_columns = [col for col in expected_columns if col in data.columns]\n",
        "if not available_columns:\n",
        "    raise ValueError(\"No expected columns found in the dataset. Check the dataset structure.\")\n",
        "\n",
        "# Select element composition data\n",
        "element_data = data[available_columns]\n",
        "\n",
        "# Standardize the data (VIF is scale-sensitive)\n",
        "scaler = StandardScaler()\n",
        "element_data_scaled = scaler.fit_transform(element_data)\n",
        "\n",
        "# Compute VIF for each feature\n",
        "vif_data = pd.DataFrame({\n",
        "    \"Feature\": available_columns,\n",
        "    \"VIF\": [variance_inflation_factor(element_data_scaled, i) for i in range(element_data_scaled.shape[1])]\n",
        "})\n",
        "\n",
        "# Print VIF results\n",
        "print(vif_data)\n",
        "\n",
        "# List of elements to highlight in red\n",
        "red_features = ['Cr', 'Fe', 'Ni', 'V', 'Nb', 'Ti', 'Zr']\n",
        "\n",
        "# Plot VIF values with color change based on specific features\n",
        "plt.figure(figsize=(12, 6))\n",
        "\n",
        "# Assign bar colors based on whether the feature is in the red_features list\n",
        "bar_colors = ['red' if feature in red_features else 'skyblue' for feature in vif_data[\"Feature\"]]\n",
        "\n",
        "bars = plt.bar(\n",
        "    vif_data[\"Feature\"], vif_data[\"VIF\"],\n",
        "    color=bar_colors, edgecolor='black', linewidth=2  # Thick outline\n",
        ")\n",
        "\n",
        "# Add threshold lines (updated for moderate VIF=40)\n",
        "plt.axhline(y=40, color='r', linestyle='--', label='Moderate Multicollinearity (VIF > 40)')\n",
        "plt.axhline(y=10, color='orange', linestyle='--', label='Low Multicollinearity (VIF ≤ 10)')\n",
        "\n",
        "# Add plot details\n",
        "plt.xlabel('Features')\n",
        "plt.ylabel('VIF')\n",
        "plt.title('Variance Inflation Factor (VIF) Analysis')\n",
        "plt.xticks(rotation=45, ha='right')\n",
        "plt.legend()\n",
        "plt.tight_layout()\n",
        "\n",
        "# Save plot as PNG file\n",
        "plt.savefig('/content/vif_analysis_with_red_features.png')\n",
        "\n",
        "# Display the plot\n",
        "plt.show()\n"
      ]
    }
  ]
}