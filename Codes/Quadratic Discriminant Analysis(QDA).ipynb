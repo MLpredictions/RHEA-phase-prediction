{
  "nbformat": 4,
  "nbformat_minor": 0,
  "metadata": {
    "colab": {
      "provenance": []
    },
    "kernelspec": {
      "name": "python3",
      "display_name": "Python 3"
    },
    "language_info": {
      "name": "python"
    }
  },
  "cells": [
    {
      "cell_type": "code",
      "execution_count": null,
      "metadata": {
        "id": "kDBIqpsStfHa"
      },
      "outputs": [],
      "source": [
        "import pandas as pd\n",
        "import numpy as np\n",
        "from sklearn.model_selection import train_test_split\n",
        "from sklearn.discriminant_analysis import QuadraticDiscriminantAnalysis\n",
        "from sklearn.metrics import confusion_matrix, accuracy_score, classification_report\n",
        "from sklearn.impute import SimpleImputer\n",
        "import seaborn as sns\n",
        "import matplotlib.pyplot as plt\n",
        "\n",
        "# Load the dataset\n",
        "file_path = '/content/dataset.csv'  # Adjust the path as needed\n",
        "data = pd.read_csv(file_path)\n",
        "\n",
        "# Drop non-numeric columns and separate features/target\n",
        "def safe_convert_to_numeric(series):\n",
        "    return pd.to_numeric(series, errors='coerce')  # Convert invalid values to NaN\n",
        "\n",
        "X = data.drop(columns=['HEA combinations', 'Phases', 'Unnamed: 20'], errors='ignore')\n",
        "X = X.apply(safe_convert_to_numeric)\n",
        "y = data['Phases']\n",
        "\n",
        "# Encode target variable\n",
        "y_mapped, unique_labels = pd.factorize(y)\n",
        "\n",
        "# Impute missing values with mean\n",
        "imputer = SimpleImputer(strategy='mean')\n",
        "X_imputed = imputer.fit_transform(X)\n",
        "\n",
        "# Train-test split\n",
        "X_train, X_test, y_train, y_test = train_test_split(X_imputed, y_mapped, test_size=0.2, random_state=42)\n",
        "\n",
        "# Initialize QDA model\n",
        "qda_model = QuadraticDiscriminantAnalysis()\n",
        "\n",
        "# Train QDA model\n",
        "qda_model.fit(X_train, y_train)\n",
        "\n",
        "# Make predictions on the test set\n",
        "y_pred_qda = qda_model.predict(X_test)\n",
        "\n",
        "# Evaluate performance\n",
        "accuracy_qda = accuracy_score(y_test, y_pred_qda)\n",
        "conf_matrix_qda = confusion_matrix(y_test, y_pred_qda)\n",
        "\n",
        "# Plot confusion matrix\n",
        "plt.figure(figsize=(8, 6))\n",
        "sns.heatmap(conf_matrix_qda, annot=True, fmt='d', cmap='Blues',\n",
        "            xticklabels=unique_labels, yticklabels=unique_labels)\n",
        "plt.title('Confusion Matrix - QDA')\n",
        "plt.xlabel('Predicted Phases')\n",
        "plt.ylabel('True Phases')\n",
        "plt.show()\n",
        "\n",
        "# Print accuracy and classification report\n",
        "print(f'QDA Accuracy: {accuracy_qda:.2f}')\n",
        "print(\"\\nClassification Report:\")\n",
        "print(classification_report(y_test, y_pred_qda, target_names=unique_labels))\n"
      ]
    }
  ]
}