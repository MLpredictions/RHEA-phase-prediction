{
  "nbformat": 4,
  "nbformat_minor": 0,
  "metadata": {
    "colab": {
      "provenance": []
    },
    "kernelspec": {
      "name": "python3",
      "display_name": "Python 3"
    },
    "language_info": {
      "name": "python"
    }
  },
  "cells": [
    {
      "cell_type": "code",
      "execution_count": null,
      "metadata": {
        "id": "kDBIqpsStfHa"
      },
      "outputs": [],
      "source": [
        "import pandas as pd\n",
        "import numpy as np\n",
        "from sklearn.model_selection import train_test_split, GridSearchCV\n",
        "from sklearn.ensemble import RandomForestClassifier\n",
        "from sklearn.metrics import confusion_matrix, accuracy_score, classification_report\n",
        "from sklearn.impute import SimpleImputer\n",
        "import seaborn as sns\n",
        "import matplotlib.pyplot as plt\n",
        "\n",
        "# Load the dataset\n",
        "file_path = '/content/dataset.csv'  # Adjust as needed\n",
        "data = pd.read_csv(file_path)\n",
        "\n",
        "# Drop non-numeric columns and separate features/target\n",
        "def safe_convert_to_numeric(series):\n",
        "    return pd.to_numeric(series, errors='coerce')  # Convert invalid values to NaN\n",
        "\n",
        "X = data.drop(columns=['HEA combinations', 'Phases', 'Unnamed: 20'], errors='ignore')\n",
        "X = X.apply(safe_convert_to_numeric)\n",
        "y = data['Phases']\n",
        "\n",
        "# Encode target variable\n",
        "y_mapped, unique_labels = pd.factorize(y)\n",
        "\n",
        "# Impute missing values with mean\n",
        "imputer = SimpleImputer(strategy='mean')\n",
        "X_imputed = imputer.fit_transform(X)\n",
        "\n",
        "# Train-test split\n",
        "X_train, X_test, y_train, y_test = train_test_split(X_imputed, y_mapped, test_size=0.2, random_state=42)\n",
        "\n",
        "# Define hyperparameter grid for RF\n",
        "param_grid = {\n",
        "    'n_estimators': [50, 100, 200],  # Number of trees\n",
        "    'max_depth': [5, 10, None],      # Tree depth (None means no limit)\n",
        "    'min_samples_split': [2, 5, 10], # Minimum samples required to split a node\n",
        "    'min_samples_leaf': [1, 2, 4],   # Minimum samples at a leaf node\n",
        "    'bootstrap': [True, False]       # Bootstrap sampling for trees\n",
        "}\n",
        "\n",
        "# Initialize Random Forest model\n",
        "rf_model = RandomForestClassifier(random_state=42)\n",
        "\n",
        "# Perform Grid Search with Cross-Validation\n",
        "grid_search = GridSearchCV(rf_model, param_grid, cv=5, scoring='accuracy', n_jobs=-1)\n",
        "grid_search.fit(X_train, y_train)\n",
        "\n",
        "# Get the best model and parameters\n",
        "best_rf_model = grid_search.best_estimator_\n",
        "print(\"Best Parameters:\", grid_search.best_params_)\n",
        "\n",
        "# Make predictions on the test set\n",
        "y_pred_rf = best_rf_model.predict(X_test)\n",
        "\n",
        "# Evaluate performance\n",
        "accuracy_rf = accuracy_score(y_test, y_pred_rf)\n",
        "conf_matrix_rf = confusion_matrix(y_test, y_pred_rf)\n",
        "\n",
        "# Plot confusion matrix\n",
        "plt.figure(figsize=(8, 6))\n",
        "sns.heatmap(conf_matrix_rf, annot=True, fmt='d', cmap='Blues',\n",
        "            xticklabels=unique_labels, yticklabels=unique_labels)\n",
        "plt.title('Confusion Matrix - Random Forest')\n",
        "plt.xlabel('Predicted Phases')\n",
        "plt.ylabel('True Phases')\n",
        "plt.show()\n",
        "\n",
        "# Print accuracy and classification report\n",
        "print(f'Random Forest Accuracy: {accuracy_rf:.2f}')\n",
        "print(\"\\nClassification Report:\")\n",
        "print(classification_report(y_test, y_pred_rf, target_names=unique_labels))\n"
      ]
    }
  ]
}